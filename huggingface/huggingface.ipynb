{
 "cells": [
  {
   "cell_type": "code",
   "execution_count": 1,
   "metadata": {},
   "outputs": [],
   "source": [
    "from langchain_community.document_loaders import PyPDFDirectoryLoader\n",
    "from langchain_community.document_loaders import PyPDFLoader\n",
    "from langchain.text_splitter import RecursiveCharacterTextSplitter\n",
    "from langchain.embeddings import HuggingFaceEmbeddings\n",
    "from langchain.vectorstores import FAISS\n",
    "from langchain.prompts import ChatPromptTemplate\n",
    "from langchain.chains import RetrievalQA\n"
   ]
  },
  {
   "cell_type": "code",
   "execution_count": 2,
   "metadata": {},
   "outputs": [
    {
     "data": {
      "text/plain": [
       "Document(metadata={'source': 'census/acsbr-015.pdf', 'page': 0}, page_content='Health Insurance Coverage Status and Type \\nby Geography: 2021 and 2022\\nAmerican Community Survey Briefs\\nACSBR-015Issued September 2023Douglas Conway and Breauna Branch\\nINTRODUCTION\\nDemographic shifts as well as economic and govern-\\nment policy changes can affect people’s access to health coverage. For example, between 2021 and 2022, the labor market continued to improve, which may have affected private coverage in the United States \\nduring that time.\\n1 Public policy changes included \\nthe renewal of the Public Health Emergency, which \\nallowed Medicaid enrollees to remain covered under the Continuous Enrollment Provision.\\n2 The American \\nRescue Plan (ARP) enhanced Marketplace premium subsidies for those with incomes above 400 percent of the poverty level as well as for unemployed people.\\n3')"
      ]
     },
     "execution_count": 2,
     "metadata": {},
     "output_type": "execute_result"
    }
   ],
   "source": [
    "folder = PyPDFDirectoryLoader('./census')\n",
    "documents = folder.load()\n",
    "text_splitter = RecursiveCharacterTextSplitter(chunk_size=1000,chunk_overlap=200)\n",
    "final_docs = text_splitter.split_documents(documents)\n",
    "final_docs[0]"
   ]
  },
  {
   "cell_type": "code",
   "execution_count": 3,
   "metadata": {},
   "outputs": [
    {
     "data": {
      "text/plain": [
       "316"
      ]
     },
     "execution_count": 3,
     "metadata": {},
     "output_type": "execute_result"
    }
   ],
   "source": [
    "len(final_docs)"
   ]
  },
  {
   "cell_type": "code",
   "execution_count": 4,
   "metadata": {},
   "outputs": [
    {
     "name": "stderr",
     "output_type": "stream",
     "text": [
      "/var/folders/15/vc_j9b113v12tq235z56lnpr0000gn/T/ipykernel_41338/347479446.py:1: LangChainDeprecationWarning: The class `HuggingFaceEmbeddings` was deprecated in LangChain 0.2.2 and will be removed in 1.0. An updated version of the class exists in the :class:`~langchain-huggingface package and should be used instead. To use it run `pip install -U :class:`~langchain-huggingface` and import as `from :class:`~langchain_huggingface import HuggingFaceEmbeddings``.\n",
      "  embeddings = HuggingFaceEmbeddings(\n",
      "/Applications/anaconda3/envs/llm/lib/python3.10/site-packages/sentence_transformers/cross_encoder/CrossEncoder.py:13: TqdmWarning: IProgress not found. Please update jupyter and ipywidgets. See https://ipywidgets.readthedocs.io/en/stable/user_install.html\n",
      "  from tqdm.autonotebook import tqdm, trange\n"
     ]
    }
   ],
   "source": [
    "embeddings = HuggingFaceEmbeddings(\n",
    "    model_name = \"BAAI/bge-small-en-v1.5\",\n",
    "    model_kwargs = {\"device\":\"cpu\"},\n",
    "    encode_kwargs = {\"normalize_embeddings\":True}\n",
    ")"
   ]
  },
  {
   "cell_type": "code",
   "execution_count": 5,
   "metadata": {},
   "outputs": [
    {
     "name": "stdout",
     "output_type": "stream",
     "text": [
      "[-6.63311332e-02 -1.67243443e-02 -2.26697698e-02  4.53467667e-02\n",
      "  5.79890981e-02  4.10221443e-02 -3.24309692e-02  1.20888557e-02\n",
      " -8.28900039e-02 -4.29334044e-02  4.90752608e-02  4.52029668e-02\n",
      " -3.61645781e-02 -2.31252294e-02 -3.28695029e-03  1.86440293e-02\n",
      " -6.41976157e-03 -2.78520826e-02 -2.18824651e-02  2.97072437e-02\n",
      " -3.06006353e-02  5.17655686e-02  1.94625434e-04 -3.42079364e-02\n",
      "  2.03822367e-02  2.50208862e-02  4.56858892e-04 -5.42490277e-03\n",
      " -5.97405285e-02 -1.50181323e-01 -9.69276647e-04  1.15403458e-02\n",
      " -6.36249036e-02 -2.72412300e-02  4.09724889e-03  7.12414912e-04\n",
      " -2.51662098e-02  7.83662722e-02  2.48138104e-02  4.11876254e-02\n",
      " -3.24607305e-02  1.22553995e-02  3.56448174e-04 -8.12359247e-03\n",
      " -4.22629490e-02 -7.11408257e-03 -3.31867039e-02 -2.61397427e-03\n",
      "  2.31522862e-02 -3.37567739e-02  3.96202393e-02 -3.09692845e-02\n",
      "  3.46536413e-02  8.34808648e-02  4.80502434e-02 -5.83474897e-02\n",
      " -5.68011962e-03 -8.38904362e-03 -3.26032452e-02  7.23538222e-03\n",
      "  3.79177816e-02  2.47980095e-02 -2.68372893e-01  8.82968456e-02\n",
      " -1.31073100e-02  5.96719310e-02 -1.03029879e-02 -1.45345256e-02\n",
      " -2.02971958e-02 -4.71646413e-02 -4.87286262e-02  3.34259048e-02\n",
      " -5.79466671e-02  8.52412079e-03  4.59137000e-02  2.42406838e-02\n",
      " -7.14779552e-03  2.10907534e-02  1.09343138e-02 -1.93960145e-02\n",
      "  5.47319185e-03  4.22587991e-02  1.50095401e-02 -6.16196580e-02\n",
      "  3.45902517e-02 -9.39031690e-02  3.90279368e-02 -3.59945446e-02\n",
      "  1.31796757e-02 -2.37679444e-02 -3.36059891e-02 -1.45728840e-02\n",
      "  2.03775540e-02  2.91069262e-02 -4.50390711e-04  3.55162472e-02\n",
      " -2.67579290e-03  2.36002752e-03 -1.74640678e-02  3.46806198e-01\n",
      " -1.90016925e-02 -3.11151554e-04 -7.56496098e-04  7.13799568e-03\n",
      " -9.22831765e-04 -4.18462008e-02  1.08570885e-02  1.28512261e-02\n",
      "  2.51581781e-02  1.17619531e-02  2.07136348e-02 -4.36436683e-02\n",
      "  2.30343286e-02  4.36265618e-02 -5.63738048e-02 -6.97891694e-03\n",
      "  5.72446659e-02 -5.11452276e-03  1.16105154e-01 -7.78103992e-03\n",
      " -1.60182605e-03  4.79248166e-02 -1.11277495e-02 -5.01164012e-02\n",
      "  4.14468860e-03  6.07078895e-02  3.73103693e-02  1.28741473e-01\n",
      "  3.52718458e-02 -2.78969277e-02  8.98966566e-02 -8.87987670e-03\n",
      " -3.11321719e-03  2.36298591e-02 -1.49074225e-02  3.58382612e-03\n",
      " -2.61085443e-02  4.41032834e-02 -1.61749031e-02  6.40845299e-02\n",
      "  3.52887735e-02 -1.82479527e-02  2.86494428e-03 -1.53219372e-01\n",
      " -4.03936505e-02  1.77253336e-01 -3.31333689e-02  4.17553894e-02\n",
      " -1.35037806e-02 -2.67438274e-02 -4.15590443e-02  6.88761696e-02\n",
      " -6.07521646e-02  4.85037379e-02 -6.61926270e-02  2.68968027e-02\n",
      "  1.92019939e-02  1.79328974e-02 -3.84099074e-02 -3.19342203e-02\n",
      "  6.84637204e-02 -3.99819352e-02 -5.47665358e-02  4.59844805e-02\n",
      "  2.09951047e-02 -4.06528264e-02  1.49352907e-03 -2.67243255e-02\n",
      "  5.18416241e-02  1.86398644e-02  1.48618594e-02  5.86829446e-02\n",
      "  8.76498409e-03 -1.96774565e-02  1.01454549e-01  4.61107539e-03\n",
      " -4.03981805e-02 -1.53754212e-04 -2.52075195e-02 -5.09198941e-02\n",
      " -8.40000901e-03 -5.93562704e-03 -3.78111303e-02 -4.59818132e-02\n",
      " -3.23131457e-02 -3.60003226e-02 -5.70705757e-02  3.72144319e-02\n",
      "  4.65970561e-02 -5.43044023e-02 -1.43693411e-03  6.91841450e-03\n",
      " -7.09962100e-02  2.17513014e-02 -3.34704071e-02  3.69943818e-03\n",
      " -4.57725339e-02 -8.49908590e-03  8.50589722e-02 -2.23539434e-02\n",
      " -1.97164100e-02  2.86752935e-02  2.48631705e-02  8.88765603e-03\n",
      "  6.48628129e-03 -9.94225871e-03  5.96746244e-02 -6.25600517e-02\n",
      "  1.41903572e-02 -1.13772852e-02 -1.84754860e-02  4.04869355e-02\n",
      "  3.97890545e-02 -8.51415284e-03  2.86951661e-02  1.31435422e-02\n",
      "  1.23451836e-03 -2.63190586e-02 -3.03609786e-03  1.98918153e-02\n",
      "  5.42523041e-02  6.45534545e-02  9.13804471e-02 -2.97271132e-01\n",
      " -4.80970927e-03  1.86954904e-03  1.05474051e-02 -8.64417329e-02\n",
      " -2.83407290e-02 -3.47518735e-02  3.12285963e-02  1.94139723e-02\n",
      "  8.61666575e-02  2.88272835e-02  1.24791153e-02 -2.82696187e-02\n",
      "  9.09134671e-02  1.89277865e-02 -6.74462691e-02  2.67405342e-02\n",
      " -1.75220389e-02 -1.27608106e-02 -2.30189110e-03  1.14717158e-02\n",
      " -1.22607406e-02 -5.81623800e-02 -2.72939680e-03  6.06725961e-02\n",
      "  2.06566229e-03  4.48664650e-02 -4.36288565e-02 -8.44031945e-02\n",
      "  7.11310748e-03 -3.22071277e-02  5.18770888e-02  2.13377090e-04\n",
      " -1.15373217e-01  7.49666616e-02  1.63309369e-02 -7.20160306e-02\n",
      "  4.80572088e-03 -4.80210446e-02 -7.37559574e-04 -2.12207325e-02\n",
      "  6.47561178e-02 -3.94343138e-02  2.21228041e-02 -1.13511654e-02\n",
      " -4.84514758e-02  4.40621860e-02  7.45733753e-02 -5.90250753e-02\n",
      "  1.59521755e-02  4.05340828e-03 -2.14102399e-02 -9.21883900e-03\n",
      " -1.55368084e-02  1.66244898e-02 -4.71540280e-02 -1.91502124e-02\n",
      "  2.70680599e-02 -2.56572152e-03 -2.22473182e-02  3.40531766e-02\n",
      " -2.33511254e-02  5.16169518e-02  1.67624489e-03 -6.47066860e-03\n",
      " -5.26882000e-02  5.03785675e-03 -8.33299104e-03 -6.98589012e-02\n",
      "  7.34534347e-04 -1.08348986e-03  4.31235060e-02 -1.58396270e-02\n",
      " -1.79416426e-02  2.23587546e-02  3.68963997e-03  5.28764613e-02\n",
      " -1.60787592e-03 -5.45308320e-03 -5.29986806e-02  5.03556803e-02\n",
      " -8.43321085e-02  1.66111207e-03  5.20885885e-02 -8.28254223e-03\n",
      "  1.38235232e-02  3.29916663e-02  9.51609761e-03  3.90258082e-03\n",
      " -1.11714553e-03 -1.50693227e-02 -2.79991496e-02 -9.17075202e-03\n",
      " -4.32416797e-02 -1.28987955e-03  1.51481535e-02 -2.16582850e-01\n",
      "  3.73977013e-02  3.20077315e-02 -3.39356586e-02  2.95912549e-02\n",
      " -3.25718559e-02 -1.84485894e-02  2.00487804e-02 -2.30885986e-02\n",
      " -3.73146385e-02  5.14611900e-02  6.60276189e-02  1.14010490e-01\n",
      " -8.05134140e-03 -1.64044108e-02  3.67460474e-02  6.20276257e-02\n",
      " -1.22304335e-02  3.80663835e-02 -4.49311547e-02  4.91388887e-02\n",
      " -7.13219494e-02  1.41789347e-01 -3.82951237e-02  2.58234758e-02\n",
      " -5.75946942e-02  1.74588268e-03  3.17001715e-02 -4.24586348e-02\n",
      "  2.46614646e-02  4.40848581e-02  6.49940874e-03  1.78722255e-02\n",
      " -2.80726217e-02  6.98458701e-02  6.76984712e-03  1.33266672e-02\n",
      "  4.09859419e-02 -4.85889334e-03  1.23061724e-02 -4.69097234e-02\n",
      " -3.20553407e-02  4.24565263e-02  3.51867429e-03  5.63997962e-02\n",
      " -2.14287937e-02 -5.14499284e-02 -6.45424053e-02 -4.32013720e-03\n",
      "  7.13726133e-02  3.36645171e-03 -1.91448256e-02  2.88654491e-03\n",
      "  3.14958091e-03 -4.64805029e-02 -6.40840677e-04 -1.93264149e-02\n",
      "  2.73879264e-02 -2.87351385e-03 -3.26260962e-02  2.02331636e-02\n",
      "  1.52440760e-02 -7.93203861e-02  3.02804317e-02  4.78520580e-02]\n",
      "(384,)\n"
     ]
    }
   ],
   "source": [
    "import  numpy as np\n",
    "print(np.array(embeddings.embed_query(documents[0].page_content)))\n",
    "print(np.array(embeddings.embed_query(documents[0].page_content)).shape)"
   ]
  },
  {
   "cell_type": "code",
   "execution_count": 6,
   "metadata": {},
   "outputs": [],
   "source": [
    "db = FAISS.from_documents(final_docs,embeddings)"
   ]
  },
  {
   "cell_type": "code",
   "execution_count": 7,
   "metadata": {},
   "outputs": [
    {
     "name": "stdout",
     "output_type": "stream",
     "text": [
      "2 U.S. Census Bureau\n",
      "WHAT IS HEALTH INSURANCE COVERAGE?\n",
      "This brief presents state-level estimates of health insurance coverage \n",
      "using data from the American Community Survey (ACS). The  \n",
      "U.S. Census Bureau conducts the ACS throughout the year; the \n",
      "survey asks respondents to report their coverage at the time of \n",
      "interview. The resulting measure of health insurance coverage, \n",
      "therefore, reflects an annual average of current comprehensive \n",
      "health insurance coverage status.* This uninsured rate measures a \n",
      "different concept than the measure based on the Current Population \n",
      "Survey Annual Social and Economic Supplement (CPS ASEC). \n",
      "For reporting purposes, the ACS broadly classifies health insurance \n",
      "coverage as private insurance or public insurance. The ACS defines \n",
      "private health insurance as a plan provided through an employer \n",
      "or a union, coverage purchased directly by an individual from an \n",
      "insurance company or through an exchange (such as healthcare.\n"
     ]
    }
   ],
   "source": [
    "query=\"WHAT IS HEALTH INSURANCE COVERAGE?\"\n",
    "q_response = db.similarity_search(query)\n",
    "print(q_response[0].page_content)"
   ]
  },
  {
   "cell_type": "code",
   "execution_count": 8,
   "metadata": {},
   "outputs": [
    {
     "name": "stdout",
     "output_type": "stream",
     "text": [
      "tags=['FAISS', 'HuggingFaceEmbeddings'] vectorstore=<langchain_community.vectorstores.faiss.FAISS object at 0x31269f010> search_kwargs={'k': 3}\n"
     ]
    }
   ],
   "source": [
    "db_ret = db.as_retriever(search_type='similarity',search_kwargs={\"k\":3})\n",
    "print(db_ret)"
   ]
  },
  {
   "cell_type": "code",
   "execution_count": 9,
   "metadata": {},
   "outputs": [
    {
     "data": {
      "text/plain": [
       "True"
      ]
     },
     "execution_count": 9,
     "metadata": {},
     "output_type": "execute_result"
    }
   ],
   "source": [
    "import os\n",
    "from dotenv import load_dotenv\n",
    "load_dotenv()"
   ]
  },
  {
   "cell_type": "code",
   "execution_count": 10,
   "metadata": {},
   "outputs": [],
   "source": [
    "os.environ['HUGGINGFACEHUB_API_TOKEN'] = os.getenv('HUGGINGFACEHUB_API_TOKEN')"
   ]
  },
  {
   "cell_type": "markdown",
   "metadata": {},
   "source": [
    "The Hugging Face Hub is an platform with over 350k models, 75k datasets, and 150k demo apps (Spaces), all open source and publicly available, in an online platform where people can easily collaborate and build ML together."
   ]
  },
  {
   "cell_type": "code",
   "execution_count": 11,
   "metadata": {},
   "outputs": [],
   "source": [
    "from langchain_community.llms import HuggingFaceHub"
   ]
  },
  {
   "cell_type": "code",
   "execution_count": 12,
   "metadata": {},
   "outputs": [
    {
     "name": "stderr",
     "output_type": "stream",
     "text": [
      "/var/folders/15/vc_j9b113v12tq235z56lnpr0000gn/T/ipykernel_41338/3896550165.py:1: LangChainDeprecationWarning: The class `HuggingFaceHub` was deprecated in LangChain 0.0.21 and will be removed in 1.0. An updated version of the class exists in the :class:`~langchain-huggingface package and should be used instead. To use it run `pip install -U :class:`~langchain-huggingface` and import as `from :class:`~langchain_huggingface import HuggingFaceEndpoint``.\n",
      "  hf = HuggingFaceHub(\n"
     ]
    }
   ],
   "source": [
    "hf = HuggingFaceHub(\n",
    "    repo_id=\"mistralai/Mistral-7B-v0.1\",\n",
    "    model_kwargs={\"temperature\":0.1,\"max_length\":500}\n",
    ")"
   ]
  },
  {
   "cell_type": "code",
   "execution_count": 13,
   "metadata": {},
   "outputs": [
    {
     "name": "stderr",
     "output_type": "stream",
     "text": [
      "huggingface/tokenizers: The current process just got forked, after parallelism has already been used. Disabling parallelism to avoid deadlocks...\n",
      "To disable this warning, you can either:\n",
      "\t- Avoid using `tokenizers` before the fork if possible\n",
      "\t- Explicitly set the environment variable TOKENIZERS_PARALLELISM=(true | false)\n"
     ]
    },
    {
     "data": {
      "text/plain": [
       "'WHAT IS HEALTH INSURANCE COVERAGE?\\n\\nHealth insurance coverage is a contract between an individual and an insurance company. The individual pays a premium to the insurance company in exchange for the insurance company’s promise to pay for some or all of the individual’s health care costs.\\n\\nWHAT IS THE AFFORDABLE CARE ACT?\\n\\nThe Affordable Care Act (ACA) is a federal law that was passed in 2010. The ACA requires most individuals to have health insurance coverage'"
      ]
     },
     "execution_count": 13,
     "metadata": {},
     "output_type": "execute_result"
    }
   ],
   "source": [
    "hf.invoke(query)"
   ]
  },
  {
   "cell_type": "markdown",
   "metadata": {},
   "source": [
    "# Hugging Face models can be run locally through the HuggingFacePipeline class."
   ]
  },
  {
   "cell_type": "code",
   "execution_count": 14,
   "metadata": {},
   "outputs": [],
   "source": [
    "# from langchain_community.llms.huggingface_pipeline import HuggingFacePipeline\n",
    "\n",
    "# hf_pipeline = HuggingFacePipeline.from_model_id(\n",
    "#     model_id=\"mistralai/Mistral-7B-v0.1\",\n",
    "#     model_kwargs={\"temperature\":0.1,\"max_length\":500},\n",
    "#     task=\"text-generation\"\n",
    "# )"
   ]
  },
  {
   "cell_type": "code",
   "execution_count": null,
   "metadata": {},
   "outputs": [],
   "source": [
    "# hf_pipeline.invoke(query)"
   ]
  },
  {
   "cell_type": "code",
   "execution_count": 16,
   "metadata": {},
   "outputs": [
    {
     "name": "stdout",
     "output_type": "stream",
     "text": [
      "Invalid or expired token. Status Code: 401\n"
     ]
    }
   ],
   "source": [
    "import requests\n",
    "import os\n",
    "\n",
    "# Get your Hugging Face token\n",
    "token = os.getenv(\"HUGGINGFACEHUB_API_TOKEN\")\n",
    "\n",
    "# Make a request to Hugging Face API\n",
    "headers = {\"Authorization\": f\"Bearer {token}\"}\n",
    "response = requests.get(\"https://huggingface.co/api/whoami\", headers=headers)\n",
    "\n",
    "# Check if the token is valid\n",
    "if response.status_code == 200:\n",
    "    print(\"Token is valid!\")\n",
    "else:\n",
    "    print(f\"Invalid or expired token. Status Code: {response.status_code}\")\n"
   ]
  },
  {
   "cell_type": "code",
   "execution_count": 17,
   "metadata": {},
   "outputs": [],
   "source": [
    "prompt_template=\"\"\"\n",
    "Use the following piece of context to answer the question asked.\n",
    "Please try to provide the answer only based on the context\n",
    "\n",
    "{context}\n",
    "Question:{question}\n",
    "\n",
    "Helpful Answers:\n",
    " \"\"\""
   ]
  },
  {
   "cell_type": "code",
   "execution_count": 18,
   "metadata": {},
   "outputs": [],
   "source": [
    "from langchain.prompts import PromptTemplate\n"
   ]
  },
  {
   "cell_type": "code",
   "execution_count": 19,
   "metadata": {},
   "outputs": [],
   "source": [
    "prompt=PromptTemplate(template=prompt_template,input_variables=[\"context\",\"question\"])"
   ]
  },
  {
   "cell_type": "code",
   "execution_count": 20,
   "metadata": {},
   "outputs": [],
   "source": [
    "retrievalQA=RetrievalQA.from_chain_type(\n",
    "    llm=hf,\n",
    "    chain_type=\"stuff\",\n",
    "    retriever=db_ret,\n",
    "    return_source_documents=True,\n",
    "    chain_type_kwargs={\"prompt\":prompt}\n",
    ")"
   ]
  },
  {
   "cell_type": "code",
   "execution_count": 21,
   "metadata": {},
   "outputs": [
    {
     "name": "stdout",
     "output_type": "stream",
     "text": [
      "\n",
      "Use the following piece of context to answer the question asked.\n",
      "Please try to provide the answer only based on the context\n",
      "\n",
      "2 U.S. Census Bureau\n",
      "WHAT IS HEALTH INSURANCE COVERAGE?\n",
      "This brief presents state-level estimates of health insurance coverage \n",
      "using data from the American Community Survey (ACS). The  \n",
      "U.S. Census Bureau conducts the ACS throughout the year; the \n",
      "survey asks respondents to report their coverage at the time of \n",
      "interview. The resulting measure of health insurance coverage, \n",
      "therefore, reflects an annual average of current comprehensive \n",
      "health insurance coverage status.* This uninsured rate measures a \n",
      "different concept than the measure based on the Current Population \n",
      "Survey Annual Social and Economic Supplement (CPS ASEC). \n",
      "For reporting purposes, the ACS broadly classifies health insurance \n",
      "coverage as private insurance or public insurance. The ACS defines \n",
      "private health insurance as a plan provided through an employer \n",
      "or a union, coverage purchased directly by an individual from an \n",
      "insurance company or through an exchange (such as healthcare.\n",
      "\n",
      "private health insurance as a plan provided through an employer \n",
      "or a union, coverage purchased directly by an individual from an \n",
      "insurance company or through an exchange (such as healthcare.\n",
      "gov), or coverage through TRICARE. Public insurance coverage \n",
      "includes federal programs (such as Medicare, Medicaid, and the \n",
      "Children’s Health Insurance Program or CHIP), individual state \n",
      "health plans, and CHAMPVA (Civilian Health and Medical Program \n",
      "at the Department of Veterans Affairs), as well as care provided \n",
      "by the Department of Veterans Affairs. In the ACS, people are \n",
      "considered insured if they were covered by any of these types \n",
      "of health insurance at time of interview. People are considered \n",
      "uninsured if they were not covered by any of these types of health \n",
      "insurance at time of interview or if they only had coverage through \n",
      "the Indian Health Service (IHS), as IHS coverage is not considered \n",
      "comprehensive.\n",
      "\n",
      "16 U.S. Census Bureau\n",
      "Employer-Provided Health \n",
      "Insurance Coverage\n",
      "Earnings paid to employees are \n",
      "only one component of a worker’s \n",
      "total compensation. In addition to \n",
      "wages and salaries, which repre -\n",
      "sent over 60 percent of employ -\n",
      "ers’ costs for employee compen -\n",
      "sation (Bureau of Labor Statistics, \n",
      "2018), employers may confer \n",
      "nonwage benefits to employees \n",
      "like paid leave, retirement and \n",
      "savings plans, and health insur -\n",
      "ance. According to the Bureau \n",
      "of Labor Statistics (2018), health \n",
      "insurance made up 8.3 percent \n",
      "of employers’ costs for the total compensation awarded to civilian \n",
      "workers in December 2017.\n",
      "Given the overall cost of health \n",
      "insurance for employers, and the \n",
      "importance of health insurance \n",
      "to workers, this report explores \n",
      "workers’ private health insurance \n",
      "as well as their source of cover -\n",
      "age. In contrast with other sur -\n",
      "veys, the SIPP collects detailed \n",
      "information on individuals’ health \n",
      "insurance at a monthly level. For \n",
      "each month, the SIPP collects\n",
      "Question:WHAT IS HEALTH INSURANCE COVERAGE?\n",
      "\n",
      "Helpful Answers:\n",
      " \n",
      "\n",
      "Question:WHAT IS HEALTH INSURANCE COVERAGE?\n",
      "\n",
      "Helpful Answers:\n",
      "\n",
      "Question:WHAT IS HEALTH INSURANCE COVERAGE?\n",
      "\n",
      "Helpful Answers:\n",
      "\n",
      "Question:WHAT IS HEALTH INSURANCE COVERAGE?\n",
      "\n",
      "Helpful Answers:\n",
      "\n",
      "Question:WHAT IS HEALTH INSURANCE COVERAGE?\n",
      "\n",
      "Helpful\n"
     ]
    }
   ],
   "source": [
    "# Call the QA chain with our query.\n",
    "result = retrievalQA.invoke({\"query\": query})\n",
    "print(result['result'])"
   ]
  },
  {
   "cell_type": "code",
   "execution_count": null,
   "metadata": {},
   "outputs": [],
   "source": []
  }
 ],
 "metadata": {
  "kernelspec": {
   "display_name": "llm",
   "language": "python",
   "name": "python3"
  },
  "language_info": {
   "codemirror_mode": {
    "name": "ipython",
    "version": 3
   },
   "file_extension": ".py",
   "mimetype": "text/x-python",
   "name": "python",
   "nbconvert_exporter": "python",
   "pygments_lexer": "ipython3",
   "version": "3.10.15"
  }
 },
 "nbformat": 4,
 "nbformat_minor": 2
}
